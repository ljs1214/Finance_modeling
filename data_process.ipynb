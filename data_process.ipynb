{
 "cells": [
  {
   "cell_type": "code",
   "execution_count": 1,
   "metadata": {},
   "outputs": [],
   "source": [
    "import pandas as pd\n",
    "from ast import literal_eval\n",
    "import numpy as np\n",
    "\n",
    "xl = pd.ExcelFile('data.xlsx')\n",
    "name = xl.sheet_names  # see all sheet names\n",
    "\n"
   ]
  },
  {
   "cell_type": "code",
   "execution_count": 2,
   "metadata": {},
   "outputs": [
    {
     "name": "stdout",
     "output_type": "stream",
     "text": [
      "0\n",
      "平安银行\n",
      "1\n",
      "申万宏源\n",
      "2\n",
      "万科A\n",
      "3\n",
      "中兴通讯\n",
      "4\n",
      "中国长城\n",
      "5\n",
      "华侨城A\n",
      "6\n",
      "TCL科技\n",
      "7\n",
      "中联重科\n",
      "8\n",
      "美的集团\n",
      "9\n",
      "潍柴动力\n"
     ]
    }
   ],
   "source": [
    "for k in range(len(name)):\n",
    "    data = pd.read_excel(\"data.xlsx\", sheet_name = name[k])\n",
    "    ## 处理一下买卖价量，由于题目给的是字符型，用literal_eval函数转换\n",
    "    bid_price_list = []\n",
    "    bid_volume_list = []\n",
    "    ask_price_list = []\n",
    "    ask_volume_list = []\n",
    "    for i in range(len(data)):\n",
    "        temp = (literal_eval(data.iloc[i][\"bid_price\"]))\n",
    "        for j in range(len(temp)):\n",
    "            temp[j] = round(temp[j],2)\n",
    "        bid_price_list.append(temp)\n",
    "\n",
    "        temp = (literal_eval(data.iloc[i][\"ask_price\"]))\n",
    "        for j in range(len(temp)):\n",
    "            temp[j] = round(temp[j],2)\n",
    "        ask_price_list.append(temp)\n",
    "\n",
    "        temp = (literal_eval(data.iloc[i][\"bid_volume\"]))\n",
    "        for j in range(len(temp)):\n",
    "            temp[j] = round(temp[j],0)\n",
    "        bid_volume_list.append(temp)\n",
    "\n",
    "        temp = (literal_eval(data.iloc[i][\"ask_volume\"]))\n",
    "        for j in range(len(temp)):\n",
    "            temp[j] = round(temp[j],0)\n",
    "        ask_volume_list.append(temp)\n",
    "    temp1 = []\n",
    "    temp2 = []\n",
    "    for i in range(len(ask_volume_list)):\n",
    "        temp1.append(sum(ask_volume_list[i]))\n",
    "        temp2.append(sum(bid_volume_list[i]))\n",
    "    data[\"total_ask\"] = temp1\n",
    "    data[\"total_bid\"] = temp2\n",
    "    \n",
    "    out_data = pd.DataFrame({\"time_tick\":data[\"time_tick\"],\"volume\":data[\"volume\"],\"volume_tick\":data[\"volume_tick\"],\n",
    "                            'bid_price_1':np.array(bid_price_list).T[0],'bid_price_2':np.array(bid_price_list).T[1],\n",
    "                            'bid_price_3':np.array(bid_price_list).T[2],'bid_price_4':np.array(bid_price_list).T[3],\n",
    "                            'bid_price_5':np.array(bid_price_list).T[4],\n",
    "                             \n",
    "                             'bid_volume_1':np.array(bid_volume_list).T[0]\n",
    "                            ,'bid_volume_2':np.array(bid_volume_list).T[1],'bid_volume_3':np.array(bid_volume_list).T[2]\n",
    "                            ,'bid_volume_4':np.array(bid_volume_list).T[3],'bid_volume_5':np.array(bid_volume_list).T[4],\n",
    "                             \n",
    "                            'ask_price_1':np.array(ask_price_list).T[0],'ask_price_2':np.array(ask_volume_list).T[1],\n",
    "                            'ask_price_3':np.array(ask_price_list).T[2],'ask_price_4':np.array(ask_volume_list).T[3],\n",
    "                            'ask_price_5':np.array(ask_price_list).T[4],\n",
    "                             \n",
    "                             'ask_volume_1':np.array(ask_volume_list).T[0],'ask_volume_2':np.array(ask_volume_list).T[1],\n",
    "                            'ask_volume_3':np.array(ask_volume_list).T[2],'ask_volume_4':np.array(ask_volume_list).T[3],\n",
    "                            'ask_volume_5':np.array(ask_volume_list).T[4]\n",
    "                            ,\"total_ask\":data[\"total_ask\"],\"total_bid\":data[\"total_bid\"],\n",
    "                            \"price\":data[\"price\"]})\n",
    "    \n",
    "    print(k)\n",
    "    print(name[k])\n",
    "    file_name = name[k]+\".csv\"\n",
    "    out_data.to_csv(file_name)\n",
    "    \n",
    "    \n",
    "    \n",
    "    "
   ]
  },
  {
   "cell_type": "code",
   "execution_count": 23,
   "metadata": {},
   "outputs": [
    {
     "data": {
      "text/plain": [
       "'申万宏源'"
      ]
     },
     "execution_count": 23,
     "metadata": {},
     "output_type": "execute_result"
    }
   ],
   "source": []
  },
  {
   "cell_type": "code",
   "execution_count": null,
   "metadata": {},
   "outputs": [],
   "source": []
  }
 ],
 "metadata": {
  "kernelspec": {
   "display_name": "Python 3",
   "language": "python",
   "name": "python3"
  },
  "language_info": {
   "codemirror_mode": {
    "name": "ipython",
    "version": 3
   },
   "file_extension": ".py",
   "mimetype": "text/x-python",
   "name": "python",
   "nbconvert_exporter": "python",
   "pygments_lexer": "ipython3",
   "version": "3.8.3"
  }
 },
 "nbformat": 4,
 "nbformat_minor": 4
}
